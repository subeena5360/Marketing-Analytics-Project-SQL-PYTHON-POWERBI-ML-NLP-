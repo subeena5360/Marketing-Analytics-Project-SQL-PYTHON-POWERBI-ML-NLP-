{
 "cells": [
  {
   "cell_type": "markdown",
   "id": "5e4216c3-9a1c-4f1f-a6a3-03f4caee1f73",
   "metadata": {},
   "source": [
    "Customer Reviews Analysis with Sentiment Categorization"
   ]
  },
  {
   "cell_type": "markdown",
   "id": "84ff90c4-cc05-43dc-bb5f-2212786d5331",
   "metadata": {},
   "source": [
    "The goal of this part is to extract customer reviews stored in a SQL Server database, perform sentiment analysis to interpret customer opinions, and categorize the reviews for easier insights and reporting."
   ]
  },
  {
   "cell_type": "markdown",
   "id": "a2627bbe-dce4-4670-9ad8-a99dad418218",
   "metadata": {},
   "source": [
    "Project Description:\n",
    "In this project, customer review data was retrieved from a SQL Server database using Python and the salalchemy library. After loading the data into a pandas DataFrame, sentiment scores were computed using text analysis techniques. These scores were then used to classify the reviews into sentiment categories (positive, negative, or neutral) and group them into corresponding buckets. The final enriched dataset was saved as a CSV file for downstream analytics and business intelligence reporting.\n",
    "\n"
   ]
  },
  {
   "cell_type": "code",
   "execution_count": 53,
   "id": "cd7a5879-ec4a-4132-9212-235ecd7daa53",
   "metadata": {},
   "outputs": [],
   "source": [
    "import pandas as pd\n",
    "from sqlalchemy import create_engine\n",
    "import nltk\n",
    "from nltk.sentiment.vader import SentimentIntensityAnalyzer"
   ]
  },
  {
   "cell_type": "code",
   "execution_count": 5,
   "id": "35b30512-dba0-4e0a-8f2c-4a86d9a8509e",
   "metadata": {},
   "outputs": [
    {
     "name": "stderr",
     "output_type": "stream",
     "text": [
      "[nltk_data] Downloading package vader_lexicon to\n",
      "[nltk_data]     C:\\Users\\subia\\AppData\\Roaming\\nltk_data...\n"
     ]
    },
    {
     "data": {
      "text/plain": [
       "True"
      ]
     },
     "execution_count": 5,
     "metadata": {},
     "output_type": "execute_result"
    }
   ],
   "source": [
    "# Download the VADER lexicon for sentiment analysis if not already present.\n",
    "nltk.download('vader_lexicon')\n"
   ]
  },
  {
   "cell_type": "code",
   "execution_count": 55,
   "id": "d856161f-ccbc-4816-919d-d59cb59461e4",
   "metadata": {},
   "outputs": [],
   "source": [
    "def fetch_data_from_sql():\n",
    "    connection_string = (\n",
    "        \"mssql+pyodbc://SUBEENA\\\\SQLEXPRESS/PortfolioProject_MarketingAnalytics\"\n",
    "        \"?driver=ODBC+Driver+17+for+SQL+Server&trusted_connection=yes\"\n",
    "    )\n",
    "    \n",
    "    engine = create_engine(connection_string)\n",
    "    query = \"SELECT ReviewID, CustomerID, ProductID, ReviewDate, Rating, ReviewText FROM dbo.customer_reviews\"\n",
    "    \n",
    "    df = pd.read_sql(query, engine)\n",
    "    return df\n"
   ]
  },
  {
   "cell_type": "code",
   "execution_count": 57,
   "id": "6be16db7-4102-49fa-9e22-b10c9334a23f",
   "metadata": {},
   "outputs": [],
   "source": [
    "# Fetch the customer reviews data from the SQL database\n",
    "customer_reviews_df = fetch_data_from_sql()"
   ]
  },
  {
   "cell_type": "code",
   "execution_count": 59,
   "id": "a782baee-9b18-483c-8ce7-60bb9360450c",
   "metadata": {},
   "outputs": [],
   "source": [
    "# Initialize the VADER sentiment intensity analyzer for analyzing the sentiment of text data\n",
    "sia = SentimentIntensityAnalyzer()"
   ]
  },
  {
   "cell_type": "code",
   "execution_count": 61,
   "id": "03676132-885c-44bd-8233-39d5a4422b4c",
   "metadata": {},
   "outputs": [],
   "source": [
    "# Define a function to calculate sentiment scores using VADER\n",
    "def calculate_sentiment(review):\n",
    "    # Get the sentiment scores for the review text\n",
    "    sentiment = sia.polarity_scores(review)\n",
    "    # Return the compound score, which is a normalized score between -1 (most negative) and 1 (most positive)\n",
    "    return sentiment['compound']"
   ]
  },
  {
   "cell_type": "code",
   "execution_count": 63,
   "id": "7d98a304-7aee-456f-8ed1-1dee536e6231",
   "metadata": {},
   "outputs": [],
   "source": [
    "# Define a function to categorize sentiment using both the sentiment score and the review rating\n",
    "def categorize_sentiment(score, rating):\n",
    "    # Use both the text sentiment score and the numerical rating to determine sentiment category\n",
    "    if score > 0.05:   # Positive sentiment score\n",
    "        if rating >= 4:\n",
    "            return 'Positive'  # High rating and positive sentiment\n",
    "        elif rating == 3:     \n",
    "            return 'Mixed Positive'  # Neutral rating but positive sentiment\n",
    "        else:\n",
    "            return 'Mixed Negative'  # Low rating but positive sentiment\n",
    "    elif score < -0.05:  # Negative sentiment score\n",
    "        if rating <= 2:\n",
    "            return 'Negative'  # Low rating and negative sentiment\n",
    "        elif rating == 3:\n",
    "            return 'Mixed Negative'  # Neutral rating but negative sentiment\n",
    "        else:\n",
    "            return 'Mixed Positive'  # High rating but negative sentiment\n",
    "    else:  # Neutral sentiment score\n",
    "        if rating >= 4:\n",
    "            return 'Positive'  # High rating with neutral sentiment\n",
    "        elif rating <= 2:\n",
    "            return 'Negative'  # Low rating with neutral sentiment\n",
    "        else:\n",
    "            return 'Neutral'  # Neutral rating and neutral sentiment\n"
   ]
  },
  {
   "cell_type": "code",
   "execution_count": 65,
   "id": "fbb84a89-4903-4af0-9836-2dda168281c1",
   "metadata": {},
   "outputs": [],
   "source": [
    "# Define a function to bucket sentiment scores into text ranges\n",
    "def sentiment_bucket(score):\n",
    "    if score >= 0.5:\n",
    "        return '0.5 to 1.0'  # Strongly positive sentiment\n",
    "    elif 0.0 <= score < 0.5:\n",
    "        return '0.0 to 0.49'  # Mildly positive sentiment\n",
    "    elif -0.5 <= score < 0.0:\n",
    "        return '-0.49 to 0.0'  # Mildly negative sentiment\n",
    "    else:\n",
    "        return '-1.0 to -0.5'  # Strongly negative sentiment"
   ]
  },
  {
   "cell_type": "code",
   "execution_count": 67,
   "id": "374aecb7-4b2d-48df-99d4-27102185f58a",
   "metadata": {},
   "outputs": [],
   "source": [
    "# Apply sentiment analysis to calculate sentiment scores for each review\n",
    "customer_reviews_df['SentimentScore'] = customer_reviews_df['ReviewText'].apply(calculate_sentiment)\n"
   ]
  },
  {
   "cell_type": "code",
   "execution_count": 69,
   "id": "0612ea56-adce-4f45-a5cd-e4b5075a8ec6",
   "metadata": {},
   "outputs": [],
   "source": [
    "# Apply sentiment categorization using both text and rating\n",
    "customer_reviews_df['SentimentCategory'] = customer_reviews_df.apply(\n",
    "    lambda row: categorize_sentiment(row['SentimentScore'], row['Rating']), axis=1)\n"
   ]
  },
  {
   "cell_type": "code",
   "execution_count": 71,
   "id": "02b7f5f2-ce52-4b0d-ae26-425edee5dcf2",
   "metadata": {},
   "outputs": [],
   "source": [
    "# Apply sentiment bucketing to categorize scores into defined ranges\n",
    "customer_reviews_df['SentimentBucket'] = customer_reviews_df['SentimentScore'].apply(sentiment_bucket)"
   ]
  },
  {
   "cell_type": "code",
   "execution_count": 73,
   "id": "5091c4de-0cde-4b33-9cae-82e44ab50c3b",
   "metadata": {},
   "outputs": [
    {
     "name": "stdout",
     "output_type": "stream",
     "text": [
      "   ReviewID  CustomerID  ProductID  ReviewDate  Rating  \\\n",
      "0         1          77         18  2023-12-23       3   \n",
      "1         2          80         19  2024-12-25       5   \n",
      "2         3          50         13  2025-01-26       4   \n",
      "3         4          78         15  2025-04-21       3   \n",
      "4         5          64          2  2023-07-16       3   \n",
      "\n",
      "                                 ReviewText  SentimentScore SentimentCategory  \\\n",
      "0   Average  experience,  nothing  special.         -0.3089    Mixed Negative   \n",
      "1            The  quality  is    top-notch.          0.0000          Positive   \n",
      "2   Five  stars  for  the  quick  delivery.          0.0000          Positive   \n",
      "3  Good  quality,  but  could  be  cheaper.          0.2382    Mixed Positive   \n",
      "4   Average  experience,  nothing  special.         -0.3089    Mixed Negative   \n",
      "\n",
      "  SentimentBucket  \n",
      "0    -0.49 to 0.0  \n",
      "1     0.0 to 0.49  \n",
      "2     0.0 to 0.49  \n",
      "3     0.0 to 0.49  \n",
      "4    -0.49 to 0.0  \n"
     ]
    }
   ],
   "source": [
    "# Display the first few rows of the DataFrame with sentiment scores, categories, and buckets\n",
    "print(customer_reviews_df.head())\n"
   ]
  },
  {
   "cell_type": "code",
   "execution_count": 75,
   "id": "3628bb96-9786-42a8-8b5d-b518a5661cf8",
   "metadata": {},
   "outputs": [],
   "source": [
    "# Save the DataFrame with sentiment scores, categories, and buckets to a new CSV file\n",
    "customer_reviews_df.to_csv('fact_customer_reviews_with_sentiment.csv', index=False)"
   ]
  }
 ],
 "metadata": {
  "kernelspec": {
   "display_name": "Python [conda env:base] *",
   "language": "python",
   "name": "conda-base-py"
  },
  "language_info": {
   "codemirror_mode": {
    "name": "ipython",
    "version": 3
   },
   "file_extension": ".py",
   "mimetype": "text/x-python",
   "name": "python",
   "nbconvert_exporter": "python",
   "pygments_lexer": "ipython3",
   "version": "3.12.7"
  }
 },
 "nbformat": 4,
 "nbformat_minor": 5
}
